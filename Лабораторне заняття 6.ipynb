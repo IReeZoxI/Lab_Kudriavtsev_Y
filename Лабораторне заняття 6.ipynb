{
 "cells": [
  {
   "cell_type": "markdown",
   "metadata": {},
   "source": [
    "# Лабораторне заняття №6"
   ]
  },
  {
   "cell_type": "markdown",
   "metadata": {},
   "source": [
    "# Математичне сподівання та дисперсія\n",
    "На цьому занятті ми познайомимося з математичним сподіванням та дисперсією розглянутих раніше розподілів, які реалізовані в бібліотеці [SciPy](https://docs.scipy.org/doc/scipy/reference/).\n",
    "Із цього пакету будемо використовувати клас [scipy.stats](https://docs.scipy.org/doc/scipy/reference/stats.html), в якому реалізована велика кількість імовірнісних розподілів і статистичних функцій.\n",
    "\n",
    "Для візуалізації використаємо бібліотеку [Matplotlib](https://matplotlib.org/)."
   ]
  },
  {
   "cell_type": "code",
   "execution_count": 1,
   "metadata": {},
   "outputs": [],
   "source": [
    "import numpy as np\n",
    "import matplotlib.pyplot as plt"
   ]
  },
  {
   "cell_type": "markdown",
   "metadata": {},
   "source": [
    "## 1 Математичне сподівання"
   ]
  },
  {
   "cell_type": "markdown",
   "metadata": {},
   "source": [
    "### 1.1 Дискретні розподіли"
   ]
  },
  {
   "cell_type": "markdown",
   "metadata": {},
   "source": [
    "Нехай дискретна випадкова величина $\\xi$ набуває значень $x_1, x_2, \\ldots, x_n$ (це набір усіх можливих значень) з імовірностями $p_1, p_2, \\ldots, p_n$.\n",
    "Тоді її математичне сподівання визначається як\n",
    "$$\\mathsf{E}[\\xi] = \\sum \\limits_{k = 1}^{n} p_k x_k.$$"
   ]
  },
  {
   "cell_type": "markdown",
   "metadata": {},
   "source": [
    "Реалізуйте відповідну функцію підрахунку математичного сподівання."
   ]
  },
  {
   "cell_type": "code",
   "execution_count": 2,
   "metadata": {},
   "outputs": [],
   "source": [
    "\n",
    "def expectation(pk, xk):\n",
    "    # Місце для Вашого коду\n",
    "    if len(pk) != len(xk):\n",
    "        print('len(pk) != len(xk)')\n",
    "        return None\n",
    "    E = 0\n",
    "    for i in range(len(xk)):\n",
    "        E += pk[i]*xk[i]\n",
    "    return E"
   ]
  },
  {
   "cell_type": "markdown",
   "metadata": {},
   "source": [
    "#### 1.1.1 Біноміальний розподіл"
   ]
  },
  {
   "cell_type": "markdown",
   "metadata": {},
   "source": [
    "Розглянемо випадкову величину $\\xi$ з біноміального розподілу з параметрами $n = 20, p = 0.6$.\n",
    "Тобто $\\xi \\sim Binom(20, 0.6)$."
   ]
  },
  {
   "cell_type": "code",
   "execution_count": 3,
   "metadata": {},
   "outputs": [],
   "source": [
    "from scipy.stats import binom\n",
    "\n",
    "n = 20\n",
    "p = 0.6"
   ]
  },
  {
   "cell_type": "markdown",
   "metadata": {},
   "source": [
    "Замість того, щоб явно вказувати параметри розподілу в усіх методах класу **binom**, можна визначити екземпляр цього класу з відповідними параметрами і потім застосовувати необхідні методи до цього екземпляру без задання параметрів розподілу.\n",
    "Це справедливо для всіх класів статистичних розподілів."
   ]
  },
  {
   "cell_type": "code",
   "execution_count": 4,
   "metadata": {},
   "outputs": [],
   "source": [
    "xi = binom(n=n, p=p)"
   ]
  },
  {
   "cell_type": "markdown",
   "metadata": {},
   "source": [
    "Для обрахунку математичного сподівання необхідно знати всі можливі значення випадкової величини та їх відповідні ймовірності.\n",
    "Прямого методу для отримання цих значень немає.\n",
    "Однак, можна отримати найменше та найбільше можливе значення випадкової величини."
   ]
  },
  {
   "cell_type": "code",
   "execution_count": 5,
   "metadata": {},
   "outputs": [],
   "source": [
    "x_min = xi.a\n",
    "x_max = xi.b"
   ]
  },
  {
   "cell_type": "markdown",
   "metadata": {},
   "source": [
    "Оскільки дискретні випадкові величини набувають лише цілих значень, то тепер можна відтворити всю множину."
   ]
  },
  {
   "cell_type": "code",
   "execution_count": 6,
   "metadata": {},
   "outputs": [],
   "source": [
    "xk = np.arange(x_min, x_max+1)"
   ]
  },
  {
   "cell_type": "markdown",
   "metadata": {},
   "source": [
    "Тепер можна отримати й імовірності усіх значень випадкової величини:\n",
    "$$p_k = p(x_k) = \\mathsf{P}(\\xi = x_k), \\quad 1 \\leq k \\leq n.$$"
   ]
  },
  {
   "cell_type": "code",
   "execution_count": 7,
   "metadata": {},
   "outputs": [],
   "source": [
    "pk = xi.pmf(xk) # Місце для Вашого коду"
   ]
  },
  {
   "cell_type": "markdown",
   "metadata": {},
   "source": [
    "Зобразимо графік щільності випадкової величини $\\xi$."
   ]
  },
  {
   "cell_type": "code",
   "execution_count": 8,
   "metadata": {
    "scrolled": true
   },
   "outputs": [
    {
     "data": {
      "image/png": "[encoded data removed]",
      "text/plain": [
       "<Figure size 720x360 with 1 Axes>"
      ]
     },
     "metadata": {
      "needs_background": "light"
     },
     "output_type": "display_data"
    }
   ],
   "source": [
    "fig = plt.figure(figsize=(10,5))\n",
    "# Місце для Вашого коду\n",
    "plt.stem(xk, pk)\n",
    "plt.show()"
   ]
  },
  {
   "cell_type": "markdown",
   "metadata": {},
   "source": [
    "Тоді математичне сподівання випадкової величини $\\xi$ дорівнює:"
   ]
  },
  {
   "cell_type": "code",
   "execution_count": 9,
   "metadata": {},
   "outputs": [
    {
     "name": "stdout",
     "output_type": "stream",
     "text": [
      "11.999999999999986\n"
     ]
    }
   ],
   "source": [
    "print(expectation(pk, xk))"
   ]
  },
  {
   "cell_type": "markdown",
   "metadata": {},
   "source": [
    "Використовуючи властивості **NumPy**-векторів, обрахунок математичного сподівання можна реалізувати набагато простіше."
   ]
  },
  {
   "cell_type": "markdown",
   "metadata": {},
   "source": [
    "Множення **NumPy**-векторів (за допомогою знаку множення **\\***) відбувається поелементно."
   ]
  },
  {
   "cell_type": "code",
   "execution_count": 10,
   "metadata": {},
   "outputs": [
    {
     "name": "stdout",
     "output_type": "stream",
     "text": [
      "11.999999999999986\n"
     ]
    }
   ],
   "source": [
    "print(sum(pk * xk))"
   ]
  },
  {
   "cell_type": "markdown",
   "metadata": {},
   "source": [
    "Або використовуючи скалярний добуток (векторне множення)."
   ]
  },
  {
   "cell_type": "code",
   "execution_count": 11,
   "metadata": {},
   "outputs": [
    {
     "name": "stdout",
     "output_type": "stream",
     "text": [
      "11.999999999999982\n"
     ]
    }
   ],
   "source": [
    "print(xk.dot(pk))"
   ]
  },
  {
   "cell_type": "markdown",
   "metadata": {},
   "source": [
    "У класах статистичних розподілів підрахунок математичного сподівання реалізований методом **mean** (загальний опис методу в [документації](https://docs.scipy.org/doc/scipy/reference/generated/scipy.stats.rv_discrete.mean.html))."
   ]
  },
  {
   "cell_type": "code",
   "execution_count": 12,
   "metadata": {},
   "outputs": [
    {
     "name": "stdout",
     "output_type": "stream",
     "text": [
      "12.0\n"
     ]
    }
   ],
   "source": [
    "print(xi.mean())"
   ]
  },
  {
   "cell_type": "markdown",
   "metadata": {},
   "source": [
    "Математичне сподівання можна також порахувати за допомогою методу **expect** (загальний опис методу в [документації](https://docs.scipy.org/doc/scipy/reference/generated/scipy.stats.rv_discrete.expect.html))."
   ]
  },
  {
   "cell_type": "code",
   "execution_count": 13,
   "metadata": {},
   "outputs": [
    {
     "name": "stdout",
     "output_type": "stream",
     "text": [
      "11.999999999999986\n"
     ]
    }
   ],
   "source": [
    "print(xi.expect())"
   ]
  },
  {
   "cell_type": "markdown",
   "metadata": {},
   "source": [
    "#### 1.1.1 Геометричний розподіл"
   ]
  },
  {
   "cell_type": "markdown",
   "metadata": {},
   "source": [
    "Розглянемо випадкову величину $\\xi$ з геометричного розподілу з параметром $p = 0.25$.\n",
    "Тобто $\\xi \\sim Geom(0.25)$."
   ]
  },
  {
   "cell_type": "code",
   "execution_count": 14,
   "metadata": {},
   "outputs": [],
   "source": [
    "from scipy.stats import geom\n",
    "\n",
    "p = 0.25"
   ]
  },
  {
   "cell_type": "code",
   "execution_count": 15,
   "metadata": {},
   "outputs": [],
   "source": [
    "xi = geom(p=p)"
   ]
  },
  {
   "cell_type": "markdown",
   "metadata": {},
   "source": [
    "Для обрахунку математичного сподівання необхідно знати всі можливі значення випадкової величини та їх відповідні ймовірності.\n",
    "Прямого методу для отримання цих значень немає.\n",
    "Однак, можна отримати найменше та найбільше можливе значення випадкової величини."
   ]
  },
  {
   "cell_type": "code",
   "execution_count": 16,
   "metadata": {},
   "outputs": [],
   "source": [
    "x_min = xi.a\n",
    "x_max = xi.b"
   ]
  },
  {
   "cell_type": "code",
   "execution_count": 17,
   "metadata": {},
   "outputs": [
    {
     "name": "stdout",
     "output_type": "stream",
     "text": [
      "1 inf\n"
     ]
    }
   ],
   "source": [
    "print(x_min, x_max)"
   ]
  },
  {
   "cell_type": "markdown",
   "metadata": {},
   "source": [
    "Верхня межа дорівнює нескінченності, тому можна провести лише ниближені обчислення."
   ]
  },
  {
   "cell_type": "code",
   "execution_count": 18,
   "metadata": {},
   "outputs": [],
   "source": [
    "xk = np.arange(x_min, 101)"
   ]
  },
  {
   "cell_type": "markdown",
   "metadata": {},
   "source": [
    "Тепер можна отримати й імовірності усіх значень випадкової величини:\n",
    "$$p_k = p(x_k) = \\mathsf{P}(\\xi = x_k), \\quad 1 \\leq k \\leq n.$$"
   ]
  },
  {
   "cell_type": "code",
   "execution_count": 19,
   "metadata": {},
   "outputs": [],
   "source": [
    "pk = xi.pmf(xk) # Місце для Вашого коду"
   ]
  },
  {
   "cell_type": "markdown",
   "metadata": {},
   "source": [
    "Зобразимо графік щільності випадкової величини $\\xi$."
   ]
  },
  {
   "cell_type": "code",
   "execution_count": 20,
   "metadata": {},
   "outputs": [
    {
     "data": {
      "image/png": "[encoded data removed]",
      "text/plain": [
       "<Figure size 720x360 with 1 Axes>"
      ]
     },
     "metadata": {
      "needs_background": "light"
     },
     "output_type": "display_data"
    }
   ],
   "source": [
    "fig = plt.figure(figsize=(10,5))\n",
    "# Місце для Вашого коду\n",
    "plt.stem(xk, pk)\n",
    "plt.show()"
   ]
  },
  {
   "cell_type": "markdown",
   "metadata": {},
   "source": [
    "Тоді математичне сподівання випадкової величини $\\xi$ дорівнює:"
   ]
  },
  {
   "cell_type": "code",
   "execution_count": 21,
   "metadata": {},
   "outputs": [
    {
     "name": "stdout",
     "output_type": "stream",
     "text": [
      "3.999999999966646\n"
     ]
    }
   ],
   "source": [
    "print(expectation(pk, xk))"
   ]
  },
  {
   "cell_type": "markdown",
   "metadata": {},
   "source": [
    "Використовуючи властивості **NumPy**-векторів, обрахунок математичного сподівання можна реалізувати набагато простіше."
   ]
  },
  {
   "cell_type": "markdown",
   "metadata": {},
   "source": [
    "Множення **NumPy**-векторів (за допомогою знаку множення **\\***) відбувається поелементно."
   ]
  },
  {
   "cell_type": "code",
   "execution_count": 22,
   "metadata": {},
   "outputs": [
    {
     "name": "stdout",
     "output_type": "stream",
     "text": [
      "3.999999999966646\n"
     ]
    }
   ],
   "source": [
    "print(sum(pk * xk))"
   ]
  },
  {
   "cell_type": "markdown",
   "metadata": {},
   "source": [
    "Або використовуючи скалярний добуток (векторне множення)."
   ]
  },
  {
   "cell_type": "code",
   "execution_count": 23,
   "metadata": {},
   "outputs": [
    {
     "name": "stdout",
     "output_type": "stream",
     "text": [
      "3.9999999999666445\n"
     ]
    }
   ],
   "source": [
    "print(xk.dot(pk))"
   ]
  },
  {
   "cell_type": "markdown",
   "metadata": {},
   "source": [
    "У класах статистичних розподілів підрахунок математичного сподівання реалізований методом **mean** (загальний опис методу в [документації](https://docs.scipy.org/doc/scipy/reference/generated/scipy.stats.rv_discrete.mean.html))."
   ]
  },
  {
   "cell_type": "code",
   "execution_count": 24,
   "metadata": {},
   "outputs": [
    {
     "name": "stdout",
     "output_type": "stream",
     "text": [
      "4.0\n"
     ]
    }
   ],
   "source": [
    "print(xi.mean())"
   ]
  },
  {
   "cell_type": "markdown",
   "metadata": {},
   "source": [
    "Математичне сподівання можна також порахувати за допомогою методу **expect** (загальний опис методу в [документації](https://docs.scipy.org/doc/scipy/reference/generated/scipy.stats.rv_discrete.expect.html))."
   ]
  },
  {
   "cell_type": "code",
   "execution_count": 25,
   "metadata": {},
   "outputs": [
    {
     "name": "stdout",
     "output_type": "stream",
     "text": [
      "3.9999999999999925\n"
     ]
    }
   ],
   "source": [
    "print(xi.expect())"
   ]
  },
  {
   "cell_type": "markdown",
   "metadata": {},
   "source": [
    "### 1.2 Неперервні розподіли"
   ]
  },
  {
   "cell_type": "markdown",
   "metadata": {},
   "source": [
    "Нехай неперервна випадкова величина $\\xi$ має щільність $f(x)$.\n",
    "Тоді її математичне сподівання визначається як\n",
    "$$\\mathsf{E}[\\xi] = \\int \\limits_{- \\infty}^{\\infty} x f(x) \\, dx.$$"
   ]
  },
  {
   "cell_type": "markdown",
   "metadata": {},
   "source": [
    "#### 1.2.1 Рівномірний розподіл"
   ]
  },
  {
   "cell_type": "markdown",
   "metadata": {},
   "source": [
    "Розглянемо випадкову величину $\\xi$ з рівномірного розподілу з параметрами $a = -1, b = 4$.\n",
    "Тобто $\\xi \\sim Unif(-1, 4)$."
   ]
  },
  {
   "cell_type": "code",
   "execution_count": 26,
   "metadata": {},
   "outputs": [],
   "source": [
    "from scipy.stats import uniform\n",
    "\n",
    "a = -1\n",
    "b = 4"
   ]
  },
  {
   "cell_type": "markdown",
   "metadata": {},
   "source": [
    "Пам'ятаємо, що параметри цього розподілу необхідно виразити в аргументах $loc$ та $scale$."
   ]
  },
  {
   "cell_type": "code",
   "execution_count": 27,
   "metadata": {},
   "outputs": [],
   "source": [
    "loc = a\n",
    "scale = b - a"
   ]
  },
  {
   "cell_type": "code",
   "execution_count": 28,
   "metadata": {},
   "outputs": [],
   "source": [
    "xi = uniform(loc=loc, scale=scale)"
   ]
  },
  {
   "cell_type": "markdown",
   "metadata": {},
   "source": [
    "Зобразимо графік щільності випадкової величини $\\xi$ на відрізку $[a - 1, b + 1]$."
   ]
  },
  {
   "cell_type": "code",
   "execution_count": 29,
   "metadata": {},
   "outputs": [],
   "source": [
    "xk = np.arange(a-1, b+1.01, 0.01) # Місце для Вашого коду\n",
    "pk = xi.pdf(xk) # Місце для Вашого коду"
   ]
  },
  {
   "cell_type": "code",
   "execution_count": 30,
   "metadata": {},
   "outputs": [
    {
     "data": {
      "image/png": "[encoded data removed]",
      "text/plain": [
       "<Figure size 720x360 with 1 Axes>"
      ]
     },
     "metadata": {
      "needs_background": "light"
     },
     "output_type": "display_data"
    }
   ],
   "source": [
    "fig = plt.figure(figsize=(10,5))\n",
    "# Місце для Вашого коду\n",
    "plt.plot(xk, pk)\n",
    "plt.show()"
   ]
  },
  {
   "cell_type": "markdown",
   "metadata": {},
   "source": [
    "Тоді математичне сподівання випадкової величини $\\xi$ дорівнює:"
   ]
  },
  {
   "cell_type": "markdown",
   "metadata": {},
   "source": [
    "за допомогою методу **mean** (загальний опис методу в [документації](https://docs.scipy.org/doc/scipy/reference/generated/scipy.stats.rv_continuous.mean.html))"
   ]
  },
  {
   "cell_type": "code",
   "execution_count": 31,
   "metadata": {},
   "outputs": [
    {
     "name": "stdout",
     "output_type": "stream",
     "text": [
      "1.5\n"
     ]
    }
   ],
   "source": [
    "print(xi.mean())"
   ]
  },
  {
   "cell_type": "markdown",
   "metadata": {},
   "source": [
    "за допомогою методу **expect** (загальний опис методу в [документації](https://docs.scipy.org/doc/scipy/reference/generated/scipy.stats.rv_continuous.expect.html))"
   ]
  },
  {
   "cell_type": "code",
   "execution_count": 32,
   "metadata": {},
   "outputs": [
    {
     "name": "stdout",
     "output_type": "stream",
     "text": [
      "1.5000000000000002\n"
     ]
    }
   ],
   "source": [
    "print(xi.expect())"
   ]
  },
  {
   "cell_type": "markdown",
   "metadata": {},
   "source": [
    "#### 1.2.1 Експоненційний розподіл"
   ]
  },
  {
   "cell_type": "markdown",
   "metadata": {},
   "source": [
    "Розглянемо випадкову величину $\\xi$ з експоненційного розподілу з параметром $\\lambda = 0.75$.\n",
    "Тобто $\\xi \\sim Exp(0.75)$."
   ]
  },
  {
   "cell_type": "code",
   "execution_count": 33,
   "metadata": {},
   "outputs": [],
   "source": [
    "from scipy.stats import expon\n",
    "\n",
    "lmd = 0.75"
   ]
  },
  {
   "cell_type": "markdown",
   "metadata": {},
   "source": [
    "Пам'ятаємо, що параметри цього розподілу необхідно виразити в аргументах $loc$ та $scale$."
   ]
  },
  {
   "cell_type": "code",
   "execution_count": 34,
   "metadata": {},
   "outputs": [],
   "source": [
    "loc = 0 # Місце для Вашого коду\n",
    "scale = 1 / lmd # Місце для Вашого коду"
   ]
  },
  {
   "cell_type": "code",
   "execution_count": 35,
   "metadata": {},
   "outputs": [],
   "source": [
    "xi = expon(loc=loc, scale=scale)"
   ]
  },
  {
   "cell_type": "markdown",
   "metadata": {},
   "source": [
    "Зобразимо графік щільності випадкової величини $\\xi$ на відрізку $[-1, 10]$."
   ]
  },
  {
   "cell_type": "code",
   "execution_count": 36,
   "metadata": {},
   "outputs": [],
   "source": [
    "xk = np.arange(-1, 10.01, 0.01) # Місце для Вашого коду\n",
    "pk = xi.pdf(xk) # Місце для Вашого коду"
   ]
  },
  {
   "cell_type": "code",
   "execution_count": 37,
   "metadata": {},
   "outputs": [
    {
     "data": {
      "image/png": "[encoded data removed]",
      "text/plain": [
       "<Figure size 720x360 with 1 Axes>"
      ]
     },
     "metadata": {
      "needs_background": "light"
     },
     "output_type": "display_data"
    }
   ],
   "source": [
    "fig = plt.figure(figsize=(10,5))\n",
    "# Місце для Вашого коду\n",
    "plt.plot(xk, pk)\n",
    "plt.show()"
   ]
  },
  {
   "cell_type": "markdown",
   "metadata": {},
   "source": [
    "Тоді математичне сподівання випадкової величини $\\xi$ дорівнює:"
   ]
  },
  {
   "cell_type": "markdown",
   "metadata": {},
   "source": [
    "за допомогою методу **mean** (загальний опис методу в [документації](https://docs.scipy.org/doc/scipy/reference/generated/scipy.stats.rv_continuous.mean.html))"
   ]
  },
  {
   "cell_type": "code",
   "execution_count": 38,
   "metadata": {},
   "outputs": [
    {
     "name": "stdout",
     "output_type": "stream",
     "text": [
      "1.3333333333333333\n"
     ]
    }
   ],
   "source": [
    "print(xi.mean())"
   ]
  },
  {
   "cell_type": "markdown",
   "metadata": {},
   "source": [
    "за допомогою методу **expect** (загальний опис методу в [документації](https://docs.scipy.org/doc/scipy/reference/generated/scipy.stats.rv_continuous.expect.html))"
   ]
  },
  {
   "cell_type": "code",
   "execution_count": 39,
   "metadata": {},
   "outputs": [
    {
     "name": "stdout",
     "output_type": "stream",
     "text": [
      "1.3333333333333333\n"
     ]
    }
   ],
   "source": [
    "print(xi.expect())"
   ]
  },
  {
   "cell_type": "markdown",
   "metadata": {},
   "source": [
    "## 2 Дисперсія"
   ]
  },
  {
   "cell_type": "markdown",
   "metadata": {},
   "source": [
    "Для випадкової величини $\\xi$ дисперсія визначається як\n",
    "$$\\mathsf{D}(\\xi) = \\mathsf{Var}[\\xi]\n",
    "= \\mathsf{E} \\left[ \\left( \\xi - \\mathsf{E}[\\xi] \\right)^2 \\right]\n",
    "= \\mathsf{E}[\\xi^2] - \\left( \\mathsf{E}[\\xi] \\right)^2.$$"
   ]
  },
  {
   "cell_type": "markdown",
   "metadata": {},
   "source": [
    "### 1.1 Дискретні розподіли"
   ]
  },
  {
   "cell_type": "markdown",
   "metadata": {},
   "source": [
    "Нехай дискретна випадкова величина $\\xi$ набуває значень $x_1, x_2, \\ldots, x_n$ (це набір усіх можливих значень) з імовірностями $p_1, p_2, \\ldots, p_n$.\n",
    "Тоді для деякої функції $g$ математичне сподівання випадкової величини $g(\\xi)$ визначається як\n",
    "$$\\mathsf{E}[g(\\xi)] = \\sum \\limits_{k = 1}^{n} p_k g(x_k).$$"
   ]
  },
  {
   "cell_type": "markdown",
   "metadata": {},
   "source": [
    "#### 1.1.1 Біноміальний розподіл"
   ]
  },
  {
   "cell_type": "markdown",
   "metadata": {},
   "source": [
    "Розглянемо випадкову величину $\\xi$ з біноміального розподілу з параметрами $n = 20, p = 0.6$.\n",
    "Тобто $\\xi \\sim Binom(20, 0.6)$."
   ]
  },
  {
   "cell_type": "code",
   "execution_count": 40,
   "metadata": {},
   "outputs": [],
   "source": [
    "from scipy.stats import binom\n",
    "\n",
    "n = 20\n",
    "p = 0.6"
   ]
  },
  {
   "cell_type": "code",
   "execution_count": 41,
   "metadata": {},
   "outputs": [],
   "source": [
    "xi = binom(n=n, p=p)"
   ]
  },
  {
   "cell_type": "code",
   "execution_count": 42,
   "metadata": {},
   "outputs": [],
   "source": [
    "x_min = xi.a\n",
    "x_max = xi.b"
   ]
  },
  {
   "cell_type": "code",
   "execution_count": 43,
   "metadata": {},
   "outputs": [],
   "source": [
    "xk = np.arange(x_min, x_max+1)"
   ]
  },
  {
   "cell_type": "code",
   "execution_count": 44,
   "metadata": {},
   "outputs": [],
   "source": [
    "pk = xi.pmf(xk)"
   ]
  },
  {
   "cell_type": "markdown",
   "metadata": {},
   "source": [
    "Тоді дисперсія випадкової величини $\\xi$ дорівнює:"
   ]
  },
  {
   "cell_type": "code",
   "execution_count": 45,
   "metadata": {},
   "outputs": [
    {
     "name": "stdout",
     "output_type": "stream",
     "text": [
      "4.79999999999999\n"
     ]
    }
   ],
   "source": [
    "g_xk = (xk - expectation(pk, xk))**2\n",
    "print(expectation(pk, g_xk))"
   ]
  },
  {
   "cell_type": "markdown",
   "metadata": {},
   "source": [
    "У класах статистичних розподілів підрахунок дисперсії реалізований методом **var** (загальний опис методу в [документації](https://docs.scipy.org/doc/scipy/reference/generated/scipy.stats.rv_discrete.var.html))."
   ]
  },
  {
   "cell_type": "code",
   "execution_count": 46,
   "metadata": {},
   "outputs": [
    {
     "name": "stdout",
     "output_type": "stream",
     "text": [
      "4.800000000000001\n"
     ]
    }
   ],
   "source": [
    "print(xi.var())"
   ]
  },
  {
   "cell_type": "markdown",
   "metadata": {},
   "source": [
    "Дисперсію можна також порахувати за допомогою методу **expect** (загальний опис методу в [документації](https://docs.scipy.org/doc/scipy/reference/generated/scipy.stats.rv_discrete.expect.html))."
   ]
  },
  {
   "cell_type": "code",
   "execution_count": 47,
   "metadata": {},
   "outputs": [
    {
     "name": "stdout",
     "output_type": "stream",
     "text": [
      "4.799999999999991\n"
     ]
    }
   ],
   "source": [
    "def f(x):\n",
    "    return (x - xi.expect())**2\n",
    "print(xi.expect(f))"
   ]
  },
  {
   "cell_type": "markdown",
   "metadata": {},
   "source": [
    "#### 1.1.2 Геометричний розподіл\n",
    "Реалізуйте підрахунок дисперсії для $\\xi \\sim Geom(0.25)$ трьома способами:\n",
    "- за допомогою методу **var**;\n",
    "- за допомогою методу **expect** та формули для дисперсії \n",
    "$\\mathsf{D}(\\xi) = \\mathsf{E} \\left[ \\left( \\xi - \\mathsf{E}[\\xi] \\right)^2 \\right]$;\n",
    "- за допомогою методу **expect** та формули для дисперсії\n",
    "$\\mathsf{D}(\\xi) = \\mathsf{E}[\\xi^2] - \\left( \\mathsf{E}[\\xi] \\right)^2$."
   ]
  },
  {
   "cell_type": "code",
   "execution_count": 48,
   "metadata": {},
   "outputs": [
    {
     "name": "stdout",
     "output_type": "stream",
     "text": [
      "12.0\n",
      "11.999999999999996\n",
      "12.00000000000006\n"
     ]
    }
   ],
   "source": [
    "# Місце для Вашого коду\n",
    "from scipy.stats import geom\n",
    "\n",
    "xi = geom(p=0.25)\n",
    "print(xi.var())\n",
    "\n",
    "def D(x):\n",
    "    return (x - xi.expect())**2\n",
    "print(xi.expect(D))\n",
    "\n",
    "def D(x):\n",
    "    return (x)**2\n",
    "print(xi.expect(D)-xi.expect()**2)"
   ]
  },
  {
   "cell_type": "markdown",
   "metadata": {},
   "source": [
    "### 1.2 Неперервні розподіли"
   ]
  },
  {
   "cell_type": "markdown",
   "metadata": {},
   "source": [
    "Нехай неперервна випадкова величина $\\xi$ має щільність $f(x)$.\n",
    "Тоді для деякої функції $g$ математичне сподівання випадкової величини $g(\\xi)$ визначається як\n",
    "$$\\mathsf{E}[g(\\xi)] = \\int \\limits_{- \\infty}^{\\infty} g(x) f(x) \\, dx.$$"
   ]
  },
  {
   "cell_type": "markdown",
   "metadata": {},
   "source": [
    "#### 1.2.1 Рівномірний розподіл"
   ]
  },
  {
   "cell_type": "markdown",
   "metadata": {},
   "source": [
    "Розглянемо випадкову величину $\\xi$ з рівномірного розподілу з параметрами $a = -1, b = 4$.\n",
    "Тобто $\\xi \\sim Unif(-1, 4)$."
   ]
  },
  {
   "cell_type": "code",
   "execution_count": 49,
   "metadata": {},
   "outputs": [],
   "source": [
    "from scipy.stats import uniform\n",
    "\n",
    "a = -1\n",
    "b = 4"
   ]
  },
  {
   "cell_type": "code",
   "execution_count": 50,
   "metadata": {},
   "outputs": [],
   "source": [
    "loc = a\n",
    "scale = b - a"
   ]
  },
  {
   "cell_type": "code",
   "execution_count": 51,
   "metadata": {},
   "outputs": [],
   "source": [
    "xi = uniform(loc=loc, scale=scale)"
   ]
  },
  {
   "cell_type": "markdown",
   "metadata": {},
   "source": [
    "Тоді дисперсія випадкової величини $\\xi$ дорівнює:"
   ]
  },
  {
   "cell_type": "markdown",
   "metadata": {},
   "source": [
    "за допомогою методу **var** (загальний опис методу в [документації](https://docs.scipy.org/doc/scipy/reference/generated/scipy.stats.rv_continuous.var.html))"
   ]
  },
  {
   "cell_type": "code",
   "execution_count": 52,
   "metadata": {},
   "outputs": [
    {
     "name": "stdout",
     "output_type": "stream",
     "text": [
      "2.083333333333333\n"
     ]
    }
   ],
   "source": [
    "print(xi.var())"
   ]
  },
  {
   "cell_type": "markdown",
   "metadata": {},
   "source": [
    "за допомогою методу **expect** (загальний опис методу в [документації](https://docs.scipy.org/doc/scipy/reference/generated/scipy.stats.rv_continuous.expect.html))"
   ]
  },
  {
   "cell_type": "code",
   "execution_count": 53,
   "metadata": {},
   "outputs": [
    {
     "name": "stdout",
     "output_type": "stream",
     "text": [
      "2.0833333333333335\n"
     ]
    }
   ],
   "source": [
    "print(xi.expect(f))"
   ]
  },
  {
   "cell_type": "markdown",
   "metadata": {},
   "source": [
    "#### 1.2.2 Експоненційний розподіл\n",
    "Реалізуйте підрахунок дисперсії для $\\xi \\sim Exp(0.75)$ трьома способами:\n",
    "- за допомогою методу **var**;\n",
    "- за допомогою методу **expect** та формули для дисперсії \n",
    "$\\mathsf{D}(\\xi) = \\mathsf{E} \\left[ \\left( \\xi - \\mathsf{E}[\\xi] \\right)^2 \\right]$;\n",
    "- за допомогою методу **expect** та формули для дисперсії\n",
    "$\\mathsf{D}(\\xi) = \\mathsf{E}[\\xi^2] - \\left( \\mathsf{E}[\\xi] \\right)^2$."
   ]
  },
  {
   "cell_type": "code",
   "execution_count": 54,
   "metadata": {},
   "outputs": [
    {
     "name": "stdout",
     "output_type": "stream",
     "text": [
      "0.14814814814814814\n",
      "0.14814814814814808\n",
      "0.14814814814814814\n"
     ]
    }
   ],
   "source": [
    "# Місце для Вашого коду\n",
    "from scipy.stats import uniform\n",
    "\n",
    "lmd = 0.75\n",
    "scale = 1 / lmd\n",
    "\n",
    "xi = uniform(loc=0, scale=scale)\n",
    "print(xi.var())\n",
    "\n",
    "def D(x):\n",
    "    return (x - xi.expect())**2\n",
    "print(xi.expect(D))\n",
    "\n",
    "def D(x):\n",
    "    return (x)**2\n",
    "print(xi.expect(D)-xi.expect()**2)"
   ]
  },
  {
   "cell_type": "markdown",
   "metadata": {
    "collapsed": true
   },
   "source": [
    "## 3 Метод `stats`"
   ]
  },
  {
   "cell_type": "markdown",
   "metadata": {},
   "source": [
    "Повертає математичне сподівання та дисперсію випадкової величини."
   ]
  },
  {
   "cell_type": "code",
   "execution_count": 55,
   "metadata": {},
   "outputs": [
    {
     "name": "stdout",
     "output_type": "stream",
     "text": [
      "(array(12.), array(4.8))\n"
     ]
    }
   ],
   "source": [
    "xi = binom(n=20, p=0.6)\n",
    "print(xi.stats())"
   ]
  },
  {
   "cell_type": "code",
   "execution_count": 56,
   "metadata": {},
   "outputs": [
    {
     "name": "stdout",
     "output_type": "stream",
     "text": [
      "(array(1.5), array(2.08333333))\n"
     ]
    }
   ],
   "source": [
    "xi = uniform(-1, 5)\n",
    "print(xi.stats())"
   ]
  },
  {
   "cell_type": "markdown",
   "metadata": {
    "collapsed": true
   },
   "source": [
    "## 4 Задачі"
   ]
  },
  {
   "cell_type": "markdown",
   "metadata": {},
   "source": [
    "### 4.1 Кількість шісток"
   ]
  },
  {
   "cell_type": "markdown",
   "metadata": {},
   "source": [
    "Нехай випадкова величина $\\xi$ - це кількість шісток після $n$ кидків грального кубика.\n",
    "\n",
    "Напишіть функцію для обрахунку математичного сподівання та дисперсії випадкової величини $\\xi$ в залежності від кількості $n$ кидків кубика методом повного перебору.\n",
    "Виведіть результат для $n = 1, 3, 6, 9.$\n",
    "\n",
    "Який розподіл має випадкова величина $\\xi$?\n",
    "Порівняйте математичне сподівання та дисперсію цього розподілу з обчисленими повним перебором."
   ]
  },
  {
   "cell_type": "code",
   "execution_count": 57,
   "metadata": {},
   "outputs": [
    {
     "name": "stdout",
     "output_type": "stream",
     "text": [
      "n = 1\n",
      "Сподівання = 0.16666666666666666\n",
      "Теоретичне сподівання = 0.16666666666666666\n",
      "Дисперсія = 0.1388888888888889\n",
      "Теоретична дисперсія = 0.1388888888888889\n",
      "n = 3\n",
      "Сподівання = 0.5\n",
      "Теоретичне сподівання = 0.5\n",
      "Дисперсія = 0.41666666666666663\n",
      "Теоретична дисперсія = 0.4166666666666667\n",
      "n = 6\n",
      "Сподівання = 1.0\n",
      "Теоретичне сподівання = 1.0\n",
      "Дисперсія = 0.8333333333333333\n",
      "Теоретична дисперсія = 0.8333333333333334\n",
      "n = 9\n",
      "Сподівання = 1.5\n",
      "Теоретичне сподівання = 1.5\n",
      "Дисперсія = 1.25\n",
      "Теоретична дисперсія = 1.25\n"
     ]
    }
   ],
   "source": [
    "# Місце для Вашого коду\n",
    "from itertools import product\n",
    "\n",
    "parametrs = [1,3,6,9]\n",
    "for i in parametrs:\n",
    "    D = 0\n",
    "    D_kv = 0\n",
    "    cnt = 0\n",
    "    for vect in product(range(1,7), repeat=i):\n",
    "        suma = 0\n",
    "        for element in vect:\n",
    "            if element == 6:\n",
    "                suma += 1\n",
    "        D += suma\n",
    "        D_kv += suma**2\n",
    "        cnt += 1\n",
    "    print(f'n = {i}')\n",
    "    print(f'Сподівання = {D/cnt}')\n",
    "    print(f'Теоретичне сподівання = {i/6}')\n",
    "    print(f'Дисперсія = {D_kv/cnt-(D/cnt)**2}')\n",
    "    print(f'Теоретична дисперсія = {5*i/36}')\n",
    "    \n"
   ]
  },
  {
   "cell_type": "markdown",
   "metadata": {},
   "source": [
    "### 4.2 Кількість старших карт"
   ]
  },
  {
   "cell_type": "markdown",
   "metadata": {},
   "source": [
    "Нехай випадкова величина $\\xi$ - це кількість старших карт (валет, дама, король, туз) із $n$ карт вибраних навмання із колоди $52$ карт.\n",
    "\n",
    "Напишіть функцію для обрахунку математичного сподівання та дисперсії випадкової величини $\\xi$ в залежності від кількості $n$ кидків кубика методом повного перебору.\n",
    "Виведіть результат для $n = 1, 2, 3, 4, 5.$\n",
    "\n",
    "Який розподіл має випадкова величина $\\xi$?\n",
    "Порівняйте математичне сподівання та дисперсію цього розподілу з обчисленими повним перебором."
   ]
  },
  {
   "cell_type": "code",
   "execution_count": 58,
   "metadata": {},
   "outputs": [
    {
     "name": "stdout",
     "output_type": "stream",
     "text": [
      "n = 1\n",
      "Сподівання = 0.3076923076923077\n",
      "Теоретичне сподівання = 0.3076923076923077\n",
      "Дисперсія = 0.21301775147928995\n",
      "Теоретична дисперсія = 0.21301775147928997\n",
      "n = 2\n",
      "Сподівання = 0.6153846153846154\n",
      "Теоретичне сподівання = 0.6153846153846154\n",
      "Дисперсія = 0.41768186564566645\n",
      "Теоретична дисперсія = 0.4176818656456666\n",
      "n = 3\n",
      "Сподівання = 0.9230769230769231\n",
      "Теоретичне сподівання = 0.9230769230769231\n",
      "Дисперсія = 0.6139923424991296\n",
      "Теоретична дисперсія = 0.6139923424991298\n",
      "n = 4\n",
      "Сподівання = 1.2307692307692308\n",
      "Теоретичне сподівання = 1.2307692307692308\n",
      "Дисперсія = 0.8019491820396798\n",
      "Теоретична дисперсія = 0.8019491820396798\n",
      "n = 5\n",
      "Сподівання = 1.5384615384615385\n",
      "Теоретичне сподівання = 1.5384615384615385\n",
      "Дисперсія = 0.9815523842673164\n",
      "Теоретична дисперсія = 0.9815523842673164\n"
     ]
    }
   ],
   "source": [
    "# Місце для Вашого коду\n",
    "from itertools import combinations\n",
    "\n",
    "Ranks = {'2', '3', '4', '5', '6', '7', '8', '9', '10', 'J', 'Q', 'K', 'A'}\n",
    "Suits = {'♢', '♠', '♣', '♡'}\n",
    "Cards = [(Rank, Suit) for Rank in Ranks for Suit in Suits]\n",
    "\n",
    "parametrs = [1,2,3,4,5]\n",
    "ranks='JQKA'\n",
    "m = len(ranks)*4\n",
    "n = 52\n",
    "\n",
    "for i in parametrs:\n",
    "    D = 0\n",
    "    D_kv = 0\n",
    "    cnt = 0\n",
    "    for vect in combinations(Cards, i):\n",
    "        suma = 0\n",
    "        for element in vect:\n",
    "            if element[0] in ranks:\n",
    "                suma += 1\n",
    "        D += suma\n",
    "        D_kv += suma**2\n",
    "        cnt += 1\n",
    "    print(f'n = {i}')\n",
    "\n",
    "    print(f'Сподівання = {D/cnt}')\n",
    "    print(f'Теоретичне сподівання = {m*i/n}')\n",
    "    print(f'Дисперсія = {D_kv/cnt-(D/cnt)**2}')\n",
    "    print(f'Теоретична дисперсія = {i*m/n*(n-i)/n*(n-m)/(n-1)}')\n",
    "    "
   ]
  },
  {
   "cell_type": "markdown",
   "metadata": {},
   "source": [
    "### 4.3 Довжина серії гербів"
   ]
  },
  {
   "cell_type": "markdown",
   "metadata": {},
   "source": [
    "Нехай випадкова величина $\\xi$ - це довжина серії гербів із $n$ підкидань монетки.\n",
    "\n",
    "Напишіть функцію для обрахунку математичного сподівання та дисперсії випадкової величини $\\xi$ в залежності від кількості $n$ кидків кубика методом повного перебору.\n",
    "Виведіть результат для $n = 1, 2, 3, 5, 10, 15, 20.$\n",
    "\n",
    "Який розподіл має випадкова величина $\\xi$ при $n = \\infty$?\n",
    "Порівняйте математичне сподівання та дисперсію цього розподілу з обчисленими повним перебором."
   ]
  },
  {
   "cell_type": "code",
   "execution_count": 59,
   "metadata": {},
   "outputs": [],
   "source": [
    "# Місце для Вашого коду\n"
   ]
  },
  {
   "cell_type": "code",
   "execution_count": null,
   "metadata": {},
   "outputs": [],
   "source": []
  }
 ],
 "metadata": {
  "kernelspec": {
   "display_name": "Python 3",
   "language": "python",
   "name": "python3"
  },
  "language_info": {
   "codemirror_mode": {
    "name": "ipython",
    "version": 3
   },
   "file_extension": ".py",
   "mimetype": "text/x-python",
   "name": "python",
   "nbconvert_exporter": "python",
   "pygments_lexer": "ipython3",
   "version": "3.8.4"
  }
 },
 "nbformat": 4,
 "nbformat_minor": 1
}
