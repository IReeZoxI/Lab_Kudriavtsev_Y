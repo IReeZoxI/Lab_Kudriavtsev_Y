{
 "cells": [
  {
   "cell_type": "markdown",
   "metadata": {},
   "source": [
    "# Лабораторне заняття №2\n",
    "Знайомство з бібліотекою **NumPy**."
   ]
  },
  {
   "cell_type": "code",
   "execution_count": 1,
   "metadata": {},
   "outputs": [],
   "source": [
    "import numpy as np"
   ]
  },
  {
   "cell_type": "markdown",
   "metadata": {},
   "source": [
    "## 1 Огляд функцій випадкового вибору"
   ]
  },
  {
   "cell_type": "markdown",
   "metadata": {},
   "source": [
    "### 1.1 Функція *choice*\n",
    "Для детальної інформації див. [документацію](https://docs.scipy.org/doc/numpy-1.14.1/reference/generated/numpy.random.choice.html)."
   ]
  },
  {
   "cell_type": "code",
   "execution_count": 2,
   "metadata": {},
   "outputs": [
    {
     "name": "stdout",
     "output_type": "stream",
     "text": [
      "['top' 'top' 'top' '4.5' '4.5' '4.5' 'top' 'top' 'top' 'top']\n"
     ]
    }
   ],
   "source": [
    "a = [\"top\", 2, \"bottom\", 4.5]\n",
    "size = 10\n",
    "probs = [0.4, 0.2, 0.1, 0.3]\n",
    "replace = True\n",
    "print(np.random.choice(a, size=size, replace=replace, p=probs))"
   ]
  },
  {
   "cell_type": "markdown",
   "metadata": {},
   "source": [
    "Згенеруйте одну випадкову цифру, вважаючи їх рівноймовірними."
   ]
  },
  {
   "cell_type": "code",
   "execution_count": 3,
   "metadata": {},
   "outputs": [
    {
     "name": "stdout",
     "output_type": "stream",
     "text": [
      "[8]\n"
     ]
    }
   ],
   "source": [
    "# Місце для Вашого коду\n",
    "\n",
    "a = [1,2,3,4,5,6,7,8,9,0]\n",
    "size = 1\n",
    "probs = [0.1, 0.1, 0.1, 0.1, 0.1, 0.1, 0.1, 0.1, 0.1, 0.1]\n",
    "replace = True\n",
    "print(np.random.choice(a, size=size, replace=replace, p=probs))\n",
    "\n"
   ]
  },
  {
   "cell_type": "markdown",
   "metadata": {},
   "source": [
    "Згенеруйте випадкову матрицю $4 \\times 6$ із рівноймовірних цифр."
   ]
  },
  {
   "cell_type": "code",
   "execution_count": 4,
   "metadata": {},
   "outputs": [
    {
     "name": "stdout",
     "output_type": "stream",
     "text": [
      "[[2 8 4 7 2 2]\n",
      " [7 6 7 5 3 0]\n",
      " [0 1 2 7 0 2]\n",
      " [3 3 0 6 9 3]]\n"
     ]
    }
   ],
   "source": [
    "# Місце для Вашого коду\n",
    "a = [1,2,3,4,5,6,7,8,9,0]\n",
    "size = 24\n",
    "probs = [0.1, 0.1, 0.1, 0.1, 0.1, 0.1, 0.1, 0.1, 0.1, 0.1]\n",
    "replace = True\n",
    "print(np.random.choice(a, size=size, replace=replace, p=probs).reshape(4,6))\n",
    "\n"
   ]
  },
  {
   "cell_type": "markdown",
   "metadata": {},
   "source": [
    "### 1.2 Функція *randint*\n",
    "Для детальної інформації див. [документацію](https://docs.scipy.org/doc/numpy-1.14.1/reference/generated/numpy.random.randint.html)."
   ]
  },
  {
   "cell_type": "code",
   "execution_count": 5,
   "metadata": {},
   "outputs": [
    {
     "name": "stdout",
     "output_type": "stream",
     "text": [
      "[4 4 1 0 1 2 4 1 1 2]\n"
     ]
    }
   ],
   "source": [
    "low = 0\n",
    "high = 5\n",
    "size = 10\n",
    "print(np.random.randint(low=low, high=high, size=size))"
   ]
  },
  {
   "cell_type": "markdown",
   "metadata": {},
   "source": [
    "Згенеруйте одну випадкову цифру."
   ]
  },
  {
   "cell_type": "code",
   "execution_count": 6,
   "metadata": {},
   "outputs": [
    {
     "name": "stdout",
     "output_type": "stream",
     "text": [
      "[84]\n"
     ]
    }
   ],
   "source": [
    "# Місце для Вашого коду\n",
    "\n",
    "print(np.random.randint(low = 1, high = 100, size = 1))\n"
   ]
  },
  {
   "cell_type": "markdown",
   "metadata": {},
   "source": [
    "Згенеруйте випадкову матрицю $4 \\times 5$ із двоцифрових чисел."
   ]
  },
  {
   "cell_type": "code",
   "execution_count": 7,
   "metadata": {},
   "outputs": [
    {
     "name": "stdout",
     "output_type": "stream",
     "text": [
      "[[87 45 87 86 83]\n",
      " [21 37 14 70 56]\n",
      " [67 43 94 58 62]\n",
      " [63 35 27 74 61]]\n"
     ]
    }
   ],
   "source": [
    "# Місце для Вашого коду\n",
    "\n",
    "print(np.random.randint(low = 10, high = 99, size = 20).reshape(4,5))\n"
   ]
  },
  {
   "cell_type": "markdown",
   "metadata": {},
   "source": [
    "### 1.3 Функція *sample*\n",
    "Для детальної інформації див. [документацію](https://docs.scipy.org/doc/numpy-1.14.1/reference/generated/numpy.random.sample.html)."
   ]
  },
  {
   "cell_type": "code",
   "execution_count": 8,
   "metadata": {},
   "outputs": [
    {
     "name": "stdout",
     "output_type": "stream",
     "text": [
      "0.8909364076321202\n"
     ]
    }
   ],
   "source": [
    "size = None\n",
    "print(np.random.sample(size=size))"
   ]
  },
  {
   "cell_type": "markdown",
   "metadata": {},
   "source": [
    "Згенеруйте випадкову матрицю $3 \\times 4$ із чисел з інтервалу $[0, 1)$."
   ]
  },
  {
   "cell_type": "code",
   "execution_count": 9,
   "metadata": {},
   "outputs": [
    {
     "name": "stdout",
     "output_type": "stream",
     "text": [
      "[[0.82713747 0.78143776 0.4256704  0.70618864]\n",
      " [0.10733646 0.25767248 0.44139476 0.14258432]\n",
      " [0.64715376 0.22082672 0.39563928 0.87965262]]\n"
     ]
    }
   ],
   "source": [
    "# Місце для Вашого коду\n",
    "\n",
    "print(np.random.sample(size=12).reshape(3,4))"
   ]
  },
  {
   "cell_type": "markdown",
   "metadata": {},
   "source": [
    "Згенеруйте 10 випадкових чисел з інтервалу $[a, b)$."
   ]
  },
  {
   "cell_type": "code",
   "execution_count": 10,
   "metadata": {},
   "outputs": [],
   "source": [
    "a = 3\n",
    "b = 5"
   ]
  },
  {
   "cell_type": "code",
   "execution_count": 11,
   "metadata": {},
   "outputs": [
    {
     "name": "stdout",
     "output_type": "stream",
     "text": [
      "[3.55815221 3.9854272  3.93829764 3.51036587 3.30390558 4.75089463\n",
      " 3.45625061 4.10381316 3.70041074 4.67288061]\n"
     ]
    }
   ],
   "source": [
    "# Місце для Вашого коду\n",
    "a = 3\n",
    "b = 5\n",
    "print( (b-a) * np.random.sample(size = 10) + a )"
   ]
  },
  {
   "cell_type": "markdown",
   "metadata": {},
   "source": [
    "### 1.4 Функція *shuffle*\n",
    "Для детальної інформації див. [документацію](https://docs.scipy.org/doc/numpy-1.14.1/reference/generated/numpy.random.shuffle.html)."
   ]
  },
  {
   "cell_type": "code",
   "execution_count": 12,
   "metadata": {},
   "outputs": [
    {
     "name": "stdout",
     "output_type": "stream",
     "text": [
      "[4 0 8 9 5 6 3 1 7 2]\n"
     ]
    }
   ],
   "source": [
    "x = np.arange(10)\n",
    "np.random.shuffle(x)\n",
    "print(x)"
   ]
  },
  {
   "cell_type": "markdown",
   "metadata": {},
   "source": [
    "Перетасуйте матрицю $M$."
   ]
  },
  {
   "cell_type": "code",
   "execution_count": 13,
   "metadata": {},
   "outputs": [
    {
     "name": "stdout",
     "output_type": "stream",
     "text": [
      "[[ 0  1  2  3  4]\n",
      " [ 5  6  7  8  9]\n",
      " [10 11 12 13 14]\n",
      " [15 16 17 18 19]]\n"
     ]
    }
   ],
   "source": [
    "\n",
    "M = np.arange(20).reshape((4, 5))\n",
    "print(M)\n"
   ]
  },
  {
   "cell_type": "code",
   "execution_count": 14,
   "metadata": {},
   "outputs": [
    {
     "name": "stdout",
     "output_type": "stream",
     "text": [
      "[[14 17  5  2 13]\n",
      " [11  0 19 16 10]\n",
      " [ 9  6 12 15 18]\n",
      " [ 8  7  3  4  1]]\n"
     ]
    }
   ],
   "source": [
    "# Місце для Вашого коду\n",
    "\n",
    "M = np.arange(20).reshape((4, 5))\n",
    "N = M.flatten()\n",
    "np.random.shuffle(N)\n",
    "print(N.reshape((4,5)))\n"
   ]
  },
  {
   "cell_type": "markdown",
   "metadata": {},
   "source": [
    "## 2 Відтворюваність результатів\n",
    "Можна задати початкове значення для генератора. Це зафіксує \"випадкову\" послідовність."
   ]
  },
  {
   "cell_type": "code",
   "execution_count": 15,
   "metadata": {},
   "outputs": [],
   "source": [
    "np.random.seed(42)"
   ]
  },
  {
   "cell_type": "code",
   "execution_count": 16,
   "metadata": {},
   "outputs": [
    {
     "name": "stdout",
     "output_type": "stream",
     "text": [
      "6\n"
     ]
    }
   ],
   "source": [
    "print(np.random.randint(10))"
   ]
  },
  {
   "cell_type": "code",
   "execution_count": 17,
   "metadata": {},
   "outputs": [
    {
     "name": "stdout",
     "output_type": "stream",
     "text": [
      "3\n"
     ]
    }
   ],
   "source": [
    "print(np.random.randint(10))"
   ]
  },
  {
   "cell_type": "code",
   "execution_count": 18,
   "metadata": {},
   "outputs": [
    {
     "name": "stdout",
     "output_type": "stream",
     "text": [
      "6\n",
      "3\n"
     ]
    }
   ],
   "source": [
    "np.random.seed(42)\n",
    "print(np.random.randint(10))\n",
    "print(np.random.randint(10))"
   ]
  },
  {
   "cell_type": "code",
   "execution_count": 19,
   "metadata": {},
   "outputs": [
    {
     "name": "stdout",
     "output_type": "stream",
     "text": [
      "[6 3 7 4 6 9 2 6 7 4]\n",
      "['l' 'l' 'l' 'b' 'r' 't' 'r' 'l' 'l' 'r']\n",
      "[6 3 7 4 6 9 2 6 7 4]\n",
      "['l' 'l' 'l' 'b' 'r' 't' 'r' 'l' 'l' 'r']\n"
     ]
    }
   ],
   "source": [
    "np.random.seed(42)\n",
    "print(np.random.randint(10, size=10))\n",
    "print(np.random.choice(['t', 'r', 'b', 'l'], size=10))\n",
    "np.random.seed(42)\n",
    "print(np.random.randint(10, size=10))\n",
    "print(np.random.choice(['t', 'r', 'b', 'l'], size=10))"
   ]
  },
  {
   "cell_type": "markdown",
   "metadata": {},
   "source": [
    "## 3 Монетка"
   ]
  },
  {
   "cell_type": "markdown",
   "metadata": {},
   "source": [
    "### 3.1 За допомогою функції *choice*"
   ]
  },
  {
   "cell_type": "code",
   "execution_count": 20,
   "metadata": {},
   "outputs": [
    {
     "name": "stdout",
     "output_type": "stream",
     "text": [
      "['H' 'H' 'H' 'H' 'T' 'H' 'H' 'T' 'H' 'H']\n"
     ]
    }
   ],
   "source": [
    "p=0.5\n",
    "n=10\n",
    "tosses=np.random.choice([\"H\",\"T\"],p=[p,1-p], size=n)\n",
    "print(tosses)"
   ]
  },
  {
   "cell_type": "code",
   "execution_count": 21,
   "metadata": {},
   "outputs": [
    {
     "name": "stdout",
     "output_type": "stream",
     "text": [
      "8 heads and 2 tails\n"
     ]
    }
   ],
   "source": [
    "heads = list(tosses).count(\"H\")\n",
    "tails = list(tosses).count(\"T\")\n",
    "\n",
    "print(\"{} heads and {} tails\".format(heads,tails))"
   ]
  },
  {
   "cell_type": "markdown",
   "metadata": {},
   "source": [
    "Просимулюйте $100$ підкидань монетки та підрахуйте кількість кожної із сторін."
   ]
  },
  {
   "cell_type": "code",
   "execution_count": 22,
   "metadata": {},
   "outputs": [
    {
     "name": "stdout",
     "output_type": "stream",
     "text": [
      "50 heads and 50 tails\n"
     ]
    }
   ],
   "source": [
    "# Місце для Вашого коду\n",
    "\n",
    "p=0.5\n",
    "n=100\n",
    "tosses=np.random.choice([\"H\",\"T\"],p=[p,1-p], size=n)\n",
    "\n",
    "heads = list(tosses).count(\"H\")\n",
    "tails = list(tosses).count(\"T\")\n",
    "\n",
    "print(\"{} heads and {} tails\".format(heads,tails))"
   ]
  },
  {
   "cell_type": "markdown",
   "metadata": {},
   "source": [
    "### 3.2 За допомогою функції *randint*\n",
    "Реалізуйте симуляцію підкидань монетки за допомогою функції **randint**. Просимулюйте $100$ підкидань монетки та підрахуйте кількість кожної із сторін."
   ]
  },
  {
   "cell_type": "code",
   "execution_count": 23,
   "metadata": {},
   "outputs": [
    {
     "name": "stdout",
     "output_type": "stream",
     "text": [
      "51 heads and 49 tails\n"
     ]
    }
   ],
   "source": [
    "# Місце для Вашого коду\n",
    "\n",
    "tosses = np.random.randint(0, 2, size = 100)\n",
    "heads = list(tosses).count(0)\n",
    "tails = list(tosses).count(1)\n",
    "print(\"{} heads and {} tails\".format(heads,tails))"
   ]
  },
  {
   "cell_type": "markdown",
   "metadata": {},
   "source": [
    "### 3.3 За допомогою функції *sample*\n",
    "Реалізуйте симуляцію підкидань монетки за допомогою функції **sample**. Просимулюйте $100$ підкидань монетки та підрахуйте кількість кожної із сторін."
   ]
  },
  {
   "cell_type": "code",
   "execution_count": 24,
   "metadata": {},
   "outputs": [
    {
     "name": "stdout",
     "output_type": "stream",
     "text": [
      "59 heads and 41 tails\n"
     ]
    }
   ],
   "source": [
    "# Місце для Вашого коду\n",
    "\n",
    "heads = 0\n",
    "tails = 0\n",
    "\n",
    "tosses = np.random.sample((1,100)) > 0.5\n",
    "for i in range(len(tosses[0])):\n",
    "    if tosses[0][i] == True:\n",
    "        heads += 1\n",
    "    else:\n",
    "        tails += 1\n",
    "\n",
    "print(\"{} heads and {} tails\".format(heads,tails))"
   ]
  },
  {
   "cell_type": "markdown",
   "metadata": {},
   "source": [
    "### 3.4 Задача\n",
    "Знайдіть емпіричну ймовірність герба у симуляціях підкидання монетки $n = 10, 50, 100, 250, 500, 1000, 2500, 5000, 10000$ разів."
   ]
  },
  {
   "cell_type": "code",
   "execution_count": 25,
   "metadata": {},
   "outputs": [
    {
     "name": "stdout",
     "output_type": "stream",
     "text": [
      "n = 10  :  P(h) = 0.5,  P(t) = 0.5\n",
      "n = 10  :  P(h) = 0.5,  P(t) = 0.5\n",
      "---------------------------------------------\n",
      "n = 50  :  P(h) = 0.6,  P(t) = 0.4\n",
      "n = 50  :  P(h) = 0.6,  P(t) = 0.4\n",
      "---------------------------------------------\n",
      "n = 100  :  P(h) = 0.54,  P(t) = 0.46\n",
      "n = 100  :  P(h) = 0.54,  P(t) = 0.46\n",
      "---------------------------------------------\n",
      "n = 250  :  P(h) = 0.452,  P(t) = 0.548\n",
      "n = 250  :  P(h) = 0.452,  P(t) = 0.548\n",
      "---------------------------------------------\n",
      "n = 500  :  P(h) = 0.492,  P(t) = 0.508\n",
      "n = 500  :  P(h) = 0.492,  P(t) = 0.508\n",
      "---------------------------------------------\n",
      "n = 1000  :  P(h) = 0.473,  P(t) = 0.527\n",
      "n = 1000  :  P(h) = 0.473,  P(t) = 0.527\n",
      "---------------------------------------------\n",
      "n = 2500  :  P(h) = 0.5084,  P(t) = 0.4916\n",
      "n = 2500  :  P(h) = 0.5084,  P(t) = 0.4916\n",
      "---------------------------------------------\n",
      "n = 5000  :  P(h) = 0.497,  P(t) = 0.503\n",
      "n = 5000  :  P(h) = 0.497,  P(t) = 0.503\n",
      "---------------------------------------------\n",
      "n = 10000  :  P(h) = 0.5003,  P(t) = 0.4997\n",
      "n = 10000  :  P(h) = 0.5003,  P(t) = 0.4997\n",
      "---------------------------------------------\n"
     ]
    }
   ],
   "source": [
    "# Місце для Вашого коду\n",
    "\n",
    "parametrs = [10, 50, 100, 250, 500, 1000, 2500, 5000, 10000]\n",
    "\n",
    "for i in parametrs:\n",
    "    \n",
    "    count_h = 0\n",
    "    count_t = 0\n",
    "    \n",
    "    tosses = np.random.randint(2, size=i)\n",
    "    for num in range(len(tosses)):\n",
    "        if tosses[num] == 1:\n",
    "            count_h += 1\n",
    "        else:\n",
    "            count_t += 1\n",
    "    \n",
    "    p_heads = count_h / i\n",
    "    p_tails = count_t / i\n",
    "    \n",
    "    P_heads = sum(tosses == 1) / i\n",
    "    P_tails = sum(tosses == 0) / i\n",
    "    \n",
    "    print('n = {}  :  P(h) = {},  P(t) = {}'.format(i, P_heads, P_tails))\n",
    "    print('n = {}  :  P(h) = {},  P(t) = {}'.format(i, p_heads, p_tails))\n",
    "    print(\"---------------------------------------------\")\n"
   ]
  },
  {
   "cell_type": "markdown",
   "metadata": {},
   "source": [
    "## 4 Гральний кубик\n",
    "### 4.1 Реалізація симуляцій\n",
    "Реалізуйте симуляцію кидків грального кубика за допомогою функції **???**. Просимулюйте $60$ кидків кубика та підрахуйте кількість кожної із сторін."
   ]
  },
  {
   "cell_type": "code",
   "execution_count": 26,
   "metadata": {},
   "outputs": [
    {
     "name": "stdout",
     "output_type": "stream",
     "text": [
      "1: 10 \n",
      "2: 12 \n",
      "3: 7 \n",
      "4: 8 \n",
      "5: 7 \n",
      "6: 16\n"
     ]
    }
   ],
   "source": [
    "# Місце для Вашого коду\n",
    "\n",
    "a = [1,2,3,4,5,6]\n",
    "size = 60\n",
    "probs = [1/6, 1/6, 1/6, 1/6, 1/6, 1/6]\n",
    "K_num = np.random.choice(a, size=size, p=probs)\n",
    "st_1 = sum(K_num == 1)\n",
    "st_2 = sum(K_num == 2)\n",
    "st_3 = sum(K_num == 3)\n",
    "st_4 = sum(K_num == 4)\n",
    "st_5 = sum(K_num == 5)\n",
    "st_6 = sum(K_num == 6)\n",
    "\n",
    "print(\"1: {} \\n2: {} \\n3: {} \\n4: {} \\n5: {} \\n6: {}\".format(st_1,st_2,st_3,st_4,st_5,st_6))"
   ]
  },
  {
   "cell_type": "markdown",
   "metadata": {},
   "source": [
    "### 4.2 Задача\n",
    "Знайдіть емпіричну ймовірність кожної сторони у симуляціях кидання грального кубика $n = 10, 50, 100, 250, 500, 1000, 2500, 5000, 10000$ разів."
   ]
  },
  {
   "cell_type": "code",
   "execution_count": 27,
   "metadata": {},
   "outputs": [
    {
     "name": "stdout",
     "output_type": "stream",
     "text": [
      "1: 0.2\n",
      "2: 0.1\n",
      "3: 0.1\n",
      "4: 0.1\n",
      "5: 0.2\n",
      "6: 0.3\n",
      "__________\n",
      "1: 0.06\n",
      "2: 0.14\n",
      "3: 0.2\n",
      "4: 0.2\n",
      "5: 0.24\n",
      "6: 0.16\n",
      "__________\n",
      "1: 0.22\n",
      "2: 0.15\n",
      "3: 0.12\n",
      "4: 0.21\n",
      "5: 0.08\n",
      "6: 0.22\n",
      "__________\n",
      "1: 0.164\n",
      "2: 0.16\n",
      "3: 0.172\n",
      "4: 0.18\n",
      "5: 0.192\n",
      "6: 0.132\n",
      "__________\n",
      "1: 0.17\n",
      "2: 0.156\n",
      "3: 0.152\n",
      "4: 0.18\n",
      "5: 0.136\n",
      "6: 0.206\n",
      "__________\n",
      "1: 0.154\n",
      "2: 0.185\n",
      "3: 0.164\n",
      "4: 0.159\n",
      "5: 0.169\n",
      "6: 0.169\n",
      "__________\n",
      "1: 0.1692\n",
      "2: 0.168\n",
      "3: 0.1572\n",
      "4: 0.1716\n",
      "5: 0.1688\n",
      "6: 0.1652\n",
      "__________\n",
      "1: 0.1726\n",
      "2: 0.1768\n",
      "3: 0.1612\n",
      "4: 0.1586\n",
      "5: 0.1618\n",
      "6: 0.169\n",
      "__________\n",
      "1: 0.1631\n",
      "2: 0.1606\n",
      "3: 0.1628\n",
      "4: 0.1736\n",
      "5: 0.1771\n",
      "6: 0.1628\n",
      "__________\n"
     ]
    }
   ],
   "source": [
    "# Місце для Вашого коду\n",
    "\n",
    "import collections\n",
    "\n",
    "parametrs = [10, 50, 100, 250, 500, 1000, 2500, 5000, 10000]\n",
    "\n",
    "for i in parametrs:\n",
    "    \n",
    "    KyB = np.random.randint(1, 7, size=i)\n",
    "    KyB_num = collections.Counter(KyB)\n",
    "    KyB_num = sorted(KyB_num.items())\n",
    "    \n",
    "    for j in range(len(KyB_num)):\n",
    "        empirical_p = KyB_num[j][1] / i\n",
    "        print(\"{}: {}\".format(KyB_num[j][0], empirical_p))\n",
    "    print(\"__________\")\n"
   ]
  },
  {
   "cell_type": "markdown",
   "metadata": {},
   "source": [
    "## 5 Колода карт\n",
    "### 5.1 Реалізація"
   ]
  },
  {
   "cell_type": "code",
   "execution_count": 28,
   "metadata": {},
   "outputs": [
    {
     "name": "stdout",
     "output_type": "stream",
     "text": [
      "[('7', '♢'), ('7', '♡'), ('7', '♣'), ('7', '♠'), ('Q', '♢'), ('Q', '♡'), ('Q', '♣'), ('Q', '♠'), ('1', '♢'), ('1', '♡'), ('1', '♣'), ('1', '♠'), ('2', '♢'), ('2', '♡'), ('2', '♣'), ('2', '♠'), ('J', '♢'), ('J', '♡'), ('J', '♣'), ('J', '♠'), ('9', '♢'), ('9', '♡'), ('9', '♣'), ('9', '♠'), ('K', '♢'), ('K', '♡'), ('K', '♣'), ('K', '♠'), ('8', '♢'), ('8', '♡'), ('8', '♣'), ('8', '♠'), ('6', '♢'), ('6', '♡'), ('6', '♣'), ('6', '♠'), ('3', '♢'), ('3', '♡'), ('3', '♣'), ('3', '♠'), ('10', '♢'), ('10', '♡'), ('10', '♣'), ('10', '♠'), ('4', '♢'), ('4', '♡'), ('4', '♣'), ('4', '♠'), ('5', '♢'), ('5', '♡'), ('5', '♣'), ('5', '♠')]\n"
     ]
    }
   ],
   "source": [
    "# Визначимо номінали, масті та карти\n",
    "Ranks = {'1', '2', '3', '4', '5', '6', '7', '8', '9', '10', 'J', 'Q', 'K'}\n",
    "Suits = {'♢', '♠', '♣', '♡'}\n",
    "# Створимо колоду карт\n",
    "Cards = [(Rank, Suit) for Rank in Ranks for Suit in Suits]\n",
    "print(Cards)"
   ]
  },
  {
   "cell_type": "code",
   "execution_count": 29,
   "metadata": {},
   "outputs": [
    {
     "name": "stdout",
     "output_type": "stream",
     "text": [
      "7♢, 7♡, 7♣, 7♠, Q♢, Q♡, Q♣, Q♠, 1♢, 1♡, 1♣, 1♠, 2♢, 2♡, 2♣, 2♠, J♢, J♡, J♣, J♠, 9♢, 9♡, 9♣, 9♠, K♢, K♡, K♣, K♠, 8♢, 8♡, 8♣, 8♠, 6♢, 6♡, 6♣, 6♠, 3♢, 3♡, 3♣, 3♠, 10♢, 10♡, 10♣, 10♠, 4♢, 4♡, 4♣, 4♠, 5♢, 5♡, 5♣, 5♠\n"
     ]
    }
   ],
   "source": [
    "# Інший вівід результату\n",
    "print(', '.join([(card[0] + card[1]) for card in Cards]))"
   ]
  },
  {
   "cell_type": "code",
   "execution_count": 30,
   "metadata": {},
   "outputs": [
    {
     "name": "stdout",
     "output_type": "stream",
     "text": [
      "♢7, ♢Q, ♢1, ♢2, ♢J, ♢9, ♢K, ♢8, ♢6, ♢3, ♢10, ♢4, ♢5\n",
      "♡7, ♡Q, ♡1, ♡2, ♡J, ♡9, ♡K, ♡8, ♡6, ♡3, ♡10, ♡4, ♡5\n",
      "♣7, ♣Q, ♣1, ♣2, ♣J, ♣9, ♣K, ♣8, ♣6, ♣3, ♣10, ♣4, ♣5\n",
      "♠7, ♠Q, ♠1, ♠2, ♠J, ♠9, ♠K, ♠8, ♠6, ♠3, ♠10, ♠4, ♠5\n"
     ]
    }
   ],
   "source": [
    "# Або згрупувавши по мастях\n",
    "for suit in Suits:\n",
    "    print(\", \".join([(suit+rank) for rank in Ranks]))"
   ]
  },
  {
   "cell_type": "code",
   "execution_count": 31,
   "metadata": {},
   "outputs": [
    {
     "name": "stdout",
     "output_type": "stream",
     "text": [
      "[('3', '♡'), ('8', '♠'), ('5', '♡'), ('7', '♡'), ('1', '♣'), ('7', '♣'), ('7', '♠'), ('6', '♢'), ('K', '♢'), ('10', '♡'), ('J', '♢'), ('4', '♢'), ('6', '♡'), ('8', '♢'), ('9', '♣'), ('Q', '♢'), ('7', '♢'), ('9', '♡'), ('Q', '♣'), ('6', '♠'), ('9', '♢'), ('Q', '♡'), ('2', '♡'), ('1', '♠'), ('3', '♢'), ('4', '♣'), ('3', '♣'), ('K', '♣'), ('5', '♣'), ('5', '♢'), ('8', '♡'), ('2', '♢'), ('4', '♠'), ('5', '♠'), ('4', '♡'), ('1', '♢'), ('6', '♣'), ('J', '♠'), ('K', '♠'), ('10', '♢'), ('10', '♠'), ('8', '♣'), ('10', '♣'), ('2', '♠'), ('9', '♠'), ('1', '♡'), ('J', '♣'), ('2', '♣'), ('3', '♠'), ('K', '♡'), ('Q', '♠'), ('J', '♡')]\n"
     ]
    }
   ],
   "source": [
    "# Перемішаємо колоду\n",
    "np.random.shuffle(Cards)\n",
    "\n",
    "print(Cards)"
   ]
  },
  {
   "cell_type": "markdown",
   "metadata": {},
   "source": [
    "### 5.2 Задача\n",
    "Знайдіть емпіричну ймовірність карти парного числа (2, 4, 6, 8, 10) у симуляціях вибору однієї карти з колоди 52 карт $n = 10, 50, 100, 250, 500, 1000, 2500, 5000, 10000$ разів."
   ]
  },
  {
   "cell_type": "code",
   "execution_count": 62,
   "metadata": {},
   "outputs": [
    {
     "name": "stdout",
     "output_type": "stream",
     "text": [
      "P = 0.4 in 10 attempts\n",
      "P = 0.34 in 50 attempts\n",
      "P = 0.44 in 100 attempts\n",
      "P = 0.432 in 250 attempts\n",
      "P = 0.424 in 500 attempts\n",
      "P = 0.369 in 1000 attempts\n",
      "P = 0.4016 in 2500 attempts\n",
      "P = 0.3862 in 5000 attempts\n",
      "P = 0.3838 in 10000 attempts\n"
     ]
    }
   ],
   "source": [
    "# Місце для Вашого коду\n",
    "\n",
    "parametrs = [10,50,100,250,500,1000,2500,5000,10000]\n",
    "Ranks = {'1', '2', '3', '4', '5', '6', '7', '8', '9', '10', 'J', 'Q', 'K'}\n",
    "Suits = {'♢', '♠️', '♣️', '♡'}\n",
    "\n",
    "Cards = [(Rank, Suit) for Rank in Ranks for Suit in Suits]\n",
    "np.random.shuffle(Cards)\n",
    "\n",
    "for j in parametrs:\n",
    "    count=0\n",
    "    for i in range(j):\n",
    "        rand_card = np.random.randint(0,52) \n",
    "        if Cards[rand_card][0] in ['2','4','6', '8', '10']:\n",
    "            count += 1\n",
    "    print (\"P = {} in {} attempts\".format(count/j,j))"
   ]
  },
  {
   "cell_type": "markdown",
   "metadata": {},
   "source": [
    "### 5.3 Задача\n",
    "Випадковим чином роздайте колоду з 52 карт чотирьом гравцям (кожному по 13 карт) так, щоб кожен з них мав 4 карти однієї масті та по 3 карти інших мастей. Наприклад, {♣5, ♣10, ♣8, ♣4, ♠4, ♠J, ♠3, ♢Q, ♢7, ♢K, ♡9, ♡1, ♡5}."
   ]
  },
  {
   "cell_type": "code",
   "execution_count": 89,
   "metadata": {},
   "outputs": [
    {
     "name": "stdout",
     "output_type": "stream",
     "text": [
      "Hand1 cards: Q♣️, 6♣️, 4♣️, 5♣️, 2♡, J♡, Q♡, Q♢, 3♢, K♢, 10♠️, K♠️, J♠️\n",
      "Hand2 cards: 9♠️, 8♠️, 5♠️, 4♠️, 9♣️, 10♣️, 8♣️, K♡, 6♡, 1♡, J♢, 10♢, 5♢\n",
      "Hand3 cards: 1♢, 4♢, 7♢, 6♢, 6♠️, 3♠️, 7♠️, 1♣️, 7♣️, 2♣️, 9♡, 4♡, 10♡\n",
      "Hand4 cards: 5♡, 8♡, 7♡, 3♡, 2♢, 9♢, 8♢, 1♠️, 2♠️, Q♠️, 3♣️, J♣️, K♣️\n"
     ]
    }
   ],
   "source": [
    "# Місце для Вашого коду\n",
    "\n",
    "Ranks = {'1', '2', '3', '4', '5', '6', '7', '8', '9', '10', 'J', 'Q', 'K'}\n",
    "Suits = {'♣️', '♠️', '♢', '♡'}\n",
    "Cards = [[Rank, Suit] for Rank in Ranks for Suit in Suits]\n",
    "np.random.shuffle(Cards)\n",
    "\n",
    "Hand1 = []\n",
    "Hand2 = []\n",
    "Hand3 = []\n",
    "Hand4 = []\n",
    "club = []\n",
    "shade = []\n",
    "diamond = []\n",
    "heart = []\n",
    "\n",
    "for suits in range(len(Cards)):\n",
    "    if Cards[suits][1]=='♣️':\n",
    "        club.append(suits)\n",
    "    if Cards[suits][1]=='♠️':\n",
    "        shade.append(suits)\n",
    "    if Cards[suits][1]=='♢':\n",
    "        diamond.append(suits)\n",
    "    if Cards[suits][1]=='♡':\n",
    "        heart.append(suits)\n",
    "\n",
    "np.random.shuffle(club) \n",
    "np.random.shuffle(shade) \n",
    "np.random.shuffle(diamond)\n",
    "np.random.shuffle(heart) \n",
    "\n",
    "\"\"\"!!!DOUBLE RANDOM SHUFFLE!!!\"\"\" \n",
    "        \n",
    "for m in range(len(Cards)//4):\n",
    "    if m < 4:\n",
    "        Hand1.append(Cards[club[m]])\n",
    "        Hand2.append(Cards[shade[m]])\n",
    "        Hand3.append(Cards[diamond[m]])\n",
    "        Hand4.append(Cards[heart[m]])\n",
    "    if m > 3 and m < 7:\n",
    "        Hand1.append(Cards[heart[m]])\n",
    "        Hand2.append(Cards[club[m]])\n",
    "        Hand3.append(Cards[shade[m]])\n",
    "        Hand4.append(Cards[diamond[m]])\n",
    "    if m >6 and m < 10:\n",
    "        Hand1.append(Cards[diamond[m]])\n",
    "        Hand2.append(Cards[heart[m]])\n",
    "        Hand3.append(Cards[club[m]])\n",
    "        Hand4.append(Cards[shade[m]])\n",
    "    if m > 9:\n",
    "        Hand1.append(Cards[shade[m]])\n",
    "        Hand2.append(Cards[diamond[m]])\n",
    "        Hand3.append(Cards[heart[m]])\n",
    "        Hand4.append(Cards[club[m]])\n",
    "\n",
    "print ('Hand1 cards:', \", \".join([(hand[0] + hand[1]) for hand in Hand1]))\n",
    "print ('Hand2 cards:', \", \".join([(hand[0] + hand[1]) for hand in Hand2]))\n",
    "print ('Hand3 cards:', \", \".join([(hand[0] + hand[1]) for hand in Hand3]))\n",
    "print ('Hand4 cards:', \", \".join([(hand[0] + hand[1]) for hand in Hand4]))"
   ]
  },
  {
   "cell_type": "markdown",
   "metadata": {},
   "source": [
    "### 5.4 Задача\n",
    "Випадковим чином роздайте колоду з 52 карт чотирьом гравцям (кожному по 13 карт) так, щоб кожен з них мав від 2 до 5 карт кожної масті. Наприклад, {♣5, ♣10, ♣8, ♣4, ♠4, ♠J, ♠3, ♢Q, ♣7, ♢K, ♡9, ♡1, ♡5}."
   ]
  },
  {
   "cell_type": "code",
   "execution_count": 99,
   "metadata": {},
   "outputs": [
    {
     "name": "stdout",
     "output_type": "stream",
     "text": [
      "Hand1 cards: 9♣️, K♣️, 3♣️, Q♣️, 10♣️, 7♡, 3♡, 6♠️, 8♠️, 3♢, 5♢, 3♠️, K♠️\n",
      "Hand2 cards: 7♠️, J♠️, 4♠️, 5♠️, Q♠️, 8♣️, 4♣️, 6♡, 4♡, 8♢, K♢, 10♢, 7♢\n",
      "Hand3 cards: 6♢, 9♢, 2♢, 1♠️, 4♢, 2♠️, Q♢, 2♣️, 6♣️, 10♡, J♡, 1♡, 2♡\n",
      "Hand4 cards: K♡, 8♡, 9♡, 5♡, Q♡, 9♠️, 10♠️, 1♢, 7♣️, J♢, 5♣️, J♣️, 1♣️\n"
     ]
    }
   ],
   "source": [
    "# Місце для Вашого коду\n",
    "\n",
    "Ranks = {'1', '2', '3', '4', '5', '6', '7', '8', '9', '10', 'J', 'Q', 'K'}\n",
    "Suits = {'♣️', '♠️', '♢', '♡'}\n",
    "Cards = [[Rank, Suit] for Rank in Ranks for Suit in Suits]\n",
    "np.random.shuffle(Cards)\n",
    "\n",
    "Hand1=[]\n",
    "Hand2=[]\n",
    "Hand3=[]\n",
    "Hand4=[]\n",
    "\n",
    "arr=[0 for w in range(0,16)]\n",
    "\n",
    "for i in range (len(Cards)):\n",
    "    if Cards[i][1]=='♣️' and arr[0]<5:\n",
    "        arr[0]+=1\n",
    "        Hand1.append(Cards[i])\n",
    "        continue\n",
    "    if Cards[i][1]=='♠️' and arr[1]<5:\n",
    "        arr[1]+=1\n",
    "        Hand2.append(Cards[i])\n",
    "        continue\n",
    "    if Cards[i][1]=='♢' and arr[2]<5:\n",
    "        arr[2]+=1\n",
    "        Hand3.append(Cards[i])\n",
    "        continue\n",
    "    if Cards[i][1]=='♡' and arr[3]<5:\n",
    "        arr[3]+=1\n",
    "        Hand4.append(Cards[i])\n",
    "        continue\n",
    "    if Cards[i][1]=='♡' and arr[4]<2:\n",
    "        arr[4]+=1\n",
    "        Hand1.append(Cards[i])\n",
    "        continue\n",
    "    if Cards[i][1]=='♣️' and arr[5]<2:\n",
    "        arr[5]+=1\n",
    "        Hand2.append(Cards[i])\n",
    "        continue\n",
    "    if Cards[i][1]=='♠️' and arr[6]<2:\n",
    "        arr[6]+=1\n",
    "        Hand3.append(Cards[i])\n",
    "        continue\n",
    "    if Cards[i][1]=='♢' and arr[7]<2:\n",
    "        arr[7]+=1\n",
    "        Hand4.append(Cards[i])\n",
    "        continue\n",
    "    if Cards[i][1]=='♢' and arr[8]<2:\n",
    "        arr[8]+=1\n",
    "        Hand1.append(Cards[i])\n",
    "        continue\n",
    "    if Cards[i][1]=='♡' and arr[9]<2:\n",
    "        arr[9]+=1\n",
    "        Hand2.append(Cards[i])\n",
    "        continue\n",
    "    if Cards[i][1]=='♣️' and arr[10]<2:\n",
    "        arr[10]+=1\n",
    "        Hand3.append(Cards[i])\n",
    "        continue\n",
    "    if Cards[i][1]=='♠️' and arr[11]<2:\n",
    "        arr[11]+=1\n",
    "        Hand4.append(Cards[i])\n",
    "        continue\n",
    "    if Cards[i][1]=='♠️' and arr[12]<4:\n",
    "        arr[12]+=1\n",
    "        Hand1.append(Cards[i])\n",
    "        continue\n",
    "    if Cards[i][1]=='♢' and arr[13]<4:\n",
    "        arr[13]+=1\n",
    "        Hand2.append(Cards[i])\n",
    "        continue\n",
    "    if Cards[i][1]=='♡' and arr[14]<4:\n",
    "        arr[14]+=1\n",
    "        Hand3.append(Cards[i])\n",
    "        continue\n",
    "    if Cards[i][1]=='♣️' and arr[15]<4:\n",
    "        arr[15]+=1\n",
    "        Hand4.append(Cards[i])\n",
    "        continue\n",
    "\n",
    "print ('Hand1 cards:', \", \".join([(hand[0] + hand[1]) for hand in Hand1]))\n",
    "print ('Hand2 cards:', \", \".join([(hand[0] + hand[1]) for hand in Hand2]))\n",
    "print ('Hand3 cards:', \", \".join([(hand[0] + hand[1]) for hand in Hand3]))\n",
    "print ('Hand4 cards:', \", \".join([(hand[0] + hand[1]) for hand in Hand4]))"
   ]
  },
  {
   "cell_type": "code",
   "execution_count": null,
   "metadata": {},
   "outputs": [],
   "source": []
  }
 ],
 "metadata": {
  "kernelspec": {
   "display_name": "Python 3",
   "language": "python",
   "name": "python3"
  },
  "language_info": {
   "codemirror_mode": {
    "name": "ipython",
    "version": 3
   },
   "file_extension": ".py",
   "mimetype": "text/x-python",
   "name": "python",
   "nbconvert_exporter": "python",
   "pygments_lexer": "ipython3",
   "version": "3.8.4"
  }
 },
 "nbformat": 4,
 "nbformat_minor": 1
}
